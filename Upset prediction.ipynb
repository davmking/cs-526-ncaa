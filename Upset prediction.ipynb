{
 "cells": [
  {
   "cell_type": "markdown",
   "id": "5103d6ec",
   "metadata": {},
   "source": [
    "# Upset prediction\n",
    "\n",
    "Notebook used for:\n",
    "- Processing tournament data\n",
    "- Predicting upsets with game data using a logistic regression classifier model"
   ]
  },
  {
   "cell_type": "code",
   "execution_count": 1,
   "id": "ea80ae4e",
   "metadata": {},
   "outputs": [],
   "source": [
    "import pandas as pd\n",
    "import numpy as np\n",
    "import os\n",
    "import seaborn as sns\n",
    "import matplotlib.pyplot as plt\n",
    "from sklearn.linear_model import LogisticRegressionCV"
   ]
  },
  {
   "cell_type": "markdown",
   "id": "58ef0172",
   "metadata": {},
   "source": [
    "# Import and process data"
   ]
  },
  {
   "cell_type": "code",
   "execution_count": 2,
   "id": "a607e940",
   "metadata": {},
   "outputs": [],
   "source": [
    "# Input data directory\n",
    "datadir = os.path.join('data', 'kaggle')"
   ]
  },
  {
   "cell_type": "markdown",
   "id": "4fe2f465",
   "metadata": {},
   "source": [
    "## Import"
   ]
  },
  {
   "cell_type": "code",
   "execution_count": 3,
   "id": "50688ecf",
   "metadata": {},
   "outputs": [],
   "source": [
    "mtourney_results = pd.read_csv(os.path.join(datadir, 'MNCAATourneyCompactResults.csv'))\n",
    "mteams = pd.read_csv(os.path.join(datadir, 'MTeams.csv'), index_col='TeamID')\n",
    "mtourney_seeds = pd.read_csv(os.path.join(datadir, 'MNCAATourneySeeds.csv'))\n",
    "MNCAATourneyDetailedResults = pd.read_csv(os.path.join('data', 'kaggle', 'MNCAATourneyDetailedResults.csv'))"
   ]
  },
  {
   "cell_type": "markdown",
   "id": "2ee7294c",
   "metadata": {},
   "source": [
    "## Tournament round/seed data"
   ]
  },
  {
   "cell_type": "code",
   "execution_count": 4,
   "id": "855f04cb",
   "metadata": {
    "scrolled": true
   },
   "outputs": [],
   "source": [
    "## Process mtourney_results dataframe\n",
    "\n",
    "# Exclude 2021 due to odd tournament schedule\n",
    "mtourney_results = mtourney_results.loc[mtourney_results['Season'] != 2021]\n",
    "\n",
    "# Create columns for each team with the season and the team ID\n",
    "mtourney_results['WSeasonTeamID'] = mtourney_results['Season'].astype(str) + '_' + mtourney_results['WTeamID'].astype(str)\n",
    "mtourney_results['LSeasonTeamID'] = mtourney_results['Season'].astype(str) + '_' + mtourney_results['LTeamID'].astype(str)\n",
    "\n",
    "# Retrieve team names using team IDs\n",
    "mtourney_results['WTeamName'] = mteams.loc[mtourney_results['WTeamID'], 'TeamName'].values\n",
    "mtourney_results['LTeamName'] = mteams.loc[mtourney_results['LTeamID'], 'TeamName'].values\n",
    "\n",
    "# Set index of mtourney_seeds to be \"Season_TeamID\" - same as WSeasonTeamID and LSeasonTeamID columns\n",
    "mtourney_seeds.index = mtourney_seeds['Season'].astype(str) + '_' + mtourney_seeds['TeamID'].astype(str)\n",
    "\n",
    "# Raw seed columns\n",
    "mtourney_results['WSeedRaw'] = mtourney_seeds.loc[mtourney_results['WSeasonTeamID'], 'Seed'].values\n",
    "mtourney_results['LSeedRaw'] = mtourney_seeds.loc[mtourney_results['LSeasonTeamID'], 'Seed'].values\n",
    "\n",
    "# Process into readable seeds\n",
    "mtourney_results['WSeed'] = mtourney_results['WSeedRaw'].str.lstrip('WXYZ').str.rstrip('ab').astype(int)\n",
    "mtourney_results['LSeed'] = mtourney_results['LSeedRaw'].str.lstrip('WXYZ').str.rstrip('ab').astype(int)\n",
    "\n",
    "# Translates days into rounds\n",
    "day_to_round = {\n",
    "    136:1, 137:1,\n",
    "    138:2, 139:2,\n",
    "    143:3, 144:3,\n",
    "    145:4, 146:4,\n",
    "    152:5,\n",
    "    154:6,\n",
    "}\n",
    "def getRound(day):\n",
    "    if day in day_to_round:\n",
    "        return day_to_round[day]\n",
    "    return float('NaN')\n",
    "\n",
    "# Create round column\n",
    "mtourney_results['Round'] = mtourney_results['DayNum'].apply(getRound)\n",
    "mtourney_results = mtourney_results.loc[~mtourney_results['Round'].isna()]\n",
    "\n",
    "# Output processed dataframe for another project\n",
    "mtourney_results.to_csv('data/mtourney_results_processed.csv', index=False)"
   ]
  },
  {
   "cell_type": "markdown",
   "id": "58ae8a2f",
   "metadata": {},
   "source": [
    "## Detailed game data"
   ]
  },
  {
   "cell_type": "code",
   "execution_count": 5,
   "id": "df60de2a",
   "metadata": {},
   "outputs": [],
   "source": [
    "game_stats = ['Ast',\n",
    " 'Blk',\n",
    " 'DR',\n",
    " 'FGA',\n",
    " 'FGA3',\n",
    " 'FGM',\n",
    " 'FGM3',\n",
    " 'FTA',\n",
    " 'FTM',\n",
    " 'OR',\n",
    " 'PF',\n",
    " 'Stl',\n",
    " 'TO']\n",
    "\n",
    "for stat in game_stats:\n",
    "    MNCAATourneyDetailedResults[f'Total_{stat}'] = MNCAATourneyDetailedResults[f'W{stat}'] + MNCAATourneyDetailedResults[f'L{stat}']    "
   ]
  },
  {
   "cell_type": "code",
   "execution_count": 6,
   "id": "a4b5bd0d",
   "metadata": {},
   "outputs": [],
   "source": [
    "# Make the index \"Season_DayNum_WTeamID_LTeamID\"\n",
    "def getGameID(df):\n",
    "    return df['Season'].astype(str) + '_' + df['DayNum'].astype(str) + '_' + df['WTeamID'].astype(str) + '_' + df['LTeamID'].astype(str)\n",
    "mtourney_results.index = getGameID(mtourney_results)\n",
    "MNCAATourneyDetailedResults.index = getGameID(MNCAATourneyDetailedResults)\n",
    "\n",
    "# Sanity checks\n",
    "assert not mtourney_results.index.duplicated().any()\n",
    "assert not MNCAATourneyDetailedResults.index.duplicated().any()"
   ]
  },
  {
   "cell_type": "markdown",
   "id": "78df14a4",
   "metadata": {},
   "source": [
    "## Upset columns"
   ]
  },
  {
   "cell_type": "code",
   "execution_count": 7,
   "id": "8ee5b83c",
   "metadata": {},
   "outputs": [],
   "source": [
    "mtourney_results['Upset'] = mtourney_results['WSeed'] - 5 >= mtourney_results['LSeed']\n",
    "mtourney_results['MissedUpset'] = mtourney_results['LSeed'] - 5 >= mtourney_results['WSeed']\n",
    "assert not np.any(mtourney_results['MissedUpset'] & mtourney_results['Upset']) # Sanity check\n",
    "\n",
    "# Transfer data to other dataframe\n",
    "MNCAATourneyDetailedResults['Upset'] = mtourney_results['Upset']\n",
    "MNCAATourneyDetailedResults['MissedUpset'] = mtourney_results['MissedUpset']"
   ]
  },
  {
   "cell_type": "markdown",
   "id": "b76bcee0",
   "metadata": {},
   "source": [
    "# Upset prediction"
   ]
  },
  {
   "cell_type": "markdown",
   "id": "dd8aea53",
   "metadata": {},
   "source": [
    "## Train classifier"
   ]
  },
  {
   "cell_type": "code",
   "execution_count": 8,
   "id": "77c23140",
   "metadata": {},
   "outputs": [],
   "source": [
    "# Helper function to return a shuffled copy of an array\n",
    "def shuffle(x):\n",
    "    xc = x.copy()\n",
    "    np.random.shuffle(xc)\n",
    "    return xc"
   ]
  },
  {
   "cell_type": "code",
   "execution_count": 9,
   "id": "524dd001",
   "metadata": {},
   "outputs": [
    {
     "name": "stdout",
     "output_type": "stream",
     "text": [
      "0.69296875\n"
     ]
    }
   ],
   "source": [
    "predictors = [f'W{stat}' for stat in game_stats] + [f'L{stat}' for stat in game_stats]\n",
    "n_features = len(predictors)\n",
    "y_var = 'Upset'\n",
    "\n",
    "# Grab all training/test data\n",
    "# Restrict to possible upsets\n",
    "all_data = MNCAATourneyDetailedResults.loc[MNCAATourneyDetailedResults['Upset'] | MNCAATourneyDetailedResults['MissedUpset'], predictors + [y_var]].dropna()\n",
    "\n",
    "# X data\n",
    "all_X = all_data[predictors]\n",
    "all_X = (all_X - all_X.mean(axis=0)) / all_X.std(axis=0) # Normalize\n",
    "\n",
    "# Y data\n",
    "all_y = all_data[y_var].astype(int)\n",
    "\n",
    "# upset_idxs = np.where(all_y)[0]\n",
    "# not_upset_idxs = np.where(~all_y)[0]\n",
    "\n",
    "# Record things for each model trained\n",
    "accuracy_list = []\n",
    "logreg_model_coef_sum = np.zeros(n_features)     # Sum of the coefficients for each model trained - used to calculate average\n",
    "\n",
    "# Do 20 iterations and average the results\n",
    "n_testing_iter = 20\n",
    "for i in range(n_testing_iter):\n",
    "    ######################################################################\n",
    "    ################## Set up training and testing sets ##################\n",
    "    ######################################################################\n",
    "    \n",
    "    test_size = 0.2\n",
    "\n",
    "    # Indices of upsets and missed upsets\n",
    "    upset_idxs = np.where(all_y == True)[0]\n",
    "    not_upset_idxs = np.where(all_y == False)[0]\n",
    "\n",
    "    # Shuffle indicies\n",
    "    upset_idxs_shuffled = shuffle(upset_idxs)\n",
    "    not_upset_idxs_shuffled = shuffle(not_upset_idxs)\n",
    "\n",
    "    # The dataset is imbalanced -- far more missed upsets than upsets\n",
    "    # So we will use all the upset games\n",
    "    # And only use the same number of missed upset games\n",
    "    \n",
    "    # Pick indices of test and train upset games\n",
    "    # Record number of games in each of these sets\n",
    "    n_test_upset = int(test_size * upset_idxs.shape[0])\n",
    "    test_upset_idxs = upset_idxs_shuffled[:n_test_upset]\n",
    "    train_upset_idxs = upset_idxs_shuffled[n_test_upset:]\n",
    "    n_train_upset = train_upset_idxs.shape[0]\n",
    "\n",
    "    # Pick missed upsets\n",
    "    test_not_upset_idxs = not_upset_idxs_shuffled[:n_test_upset]\n",
    "    train_not_upset_idxs = not_upset_idxs_shuffled[n_test_upset:(n_train_upset+n_test_upset)]\n",
    "\n",
    "    # Combine upset and missed upset indices\n",
    "    train_idxs = shuffle(np.concatenate([train_upset_idxs, train_not_upset_idxs]))\n",
    "    test_idxs = shuffle(np.concatenate([test_upset_idxs, test_not_upset_idxs]))\n",
    "\n",
    "    # Produce training and test X and y dataframes\n",
    "    train_X = all_X.iloc[train_idxs]\n",
    "    train_y = all_y.iloc[train_idxs]\n",
    "\n",
    "    test_X = all_X.iloc[test_idxs]\n",
    "    test_y = all_y.iloc[test_idxs]\n",
    "    ######################################################################\n",
    "    ######################################################################\n",
    "    ######################################################################\n",
    "\n",
    "    # Train model with L1 penalty\n",
    "    logreg_model = LogisticRegressionCV(max_iter=1000, cv=10, penalty='l1', solver='saga')\n",
    "    logreg_model.fit(train_X, train_y)\n",
    "    \n",
    "    # Record accuracy\n",
    "    accuracy = logreg_model.score(test_X, test_y)\n",
    "    accuracy_list.append(accuracy)\n",
    "    \n",
    "    # Add coefficients to running sum to be averaged later\n",
    "    logreg_model_coef_sum += logreg_model.coef_[0]\n",
    "    \n",
    "# Print average accuracy\n",
    "print(np.mean(accuracy_list))"
   ]
  },
  {
   "cell_type": "markdown",
   "id": "ddb6f1e3",
   "metadata": {},
   "source": [
    "## Plot coefficients"
   ]
  },
  {
   "cell_type": "code",
   "execution_count": 10,
   "id": "a9b0a346",
   "metadata": {},
   "outputs": [
    {
     "data": {
      "image/png": "[encoded data removed]",
      "text/plain": [
       "<Figure size 1944x360 with 1 Axes>"
      ]
     },
     "metadata": {
      "needs_background": "light"
     },
     "output_type": "display_data"
    }
   ],
   "source": [
    "# Display mean coefficient of each predictor over all iterations\n",
    "# Winning and Losing stats are predctors\n",
    "\n",
    "\n",
    "fig, ax = plt.subplots(figsize=(27, 5))\n",
    "sns.barplot(x=predictors, y=logreg_model_coef_sum / n_testing_iter, color='darkgoldenrod')\n",
    "\n",
    "ax.set_ylabel('Coefficient', fontsize=30)\n",
    "ax.set_title('Logistic Regression for Predicting Upsets', fontsize=30)\n",
    "\n",
    "ax.tick_params(axis='both', labelsize=15, width=1, length=8)"
   ]
  },
  {
   "cell_type": "markdown",
   "id": "9737a6d5",
   "metadata": {},
   "source": [
    "## Evaluate model with ROC AUC"
   ]
  },
  {
   "cell_type": "code",
   "execution_count": 11,
   "id": "3deaea00",
   "metadata": {},
   "outputs": [
    {
     "data": {
      "image/png": "[encoded data removed]",
      "text/plain": [
       "<Figure size 432x288 with 1 Axes>"
      ]
     },
     "metadata": {
      "needs_background": "light"
     },
     "output_type": "display_data"
    }
   ],
   "source": [
    "from sklearn.model_selection import train_test_split\n",
    "from sklearn.metrics import roc_curve\n",
    "\n",
    "# predict probabilities\n",
    "yhat = logreg_model.predict_proba(test_X)\n",
    "\n",
    "# retrieve just the probabilities for the positive class\n",
    "pos_probs = yhat[:, 1]\n",
    "\n",
    "# plot no skill roc curve\n",
    "plt.plot([0, 1], [0, 1], linestyle='--', label='No Skill')\n",
    "\n",
    "# calculate roc curve for model\n",
    "fpr, tpr, _ = roc_curve(test_y, pos_probs)\n",
    "# plot model roc curve\n",
    "plt.plot(fpr, tpr, marker='.', label='Logistic')\n",
    "# axis labels\n",
    "plt.xlabel('False Positive Rate', fontsize=20)\n",
    "plt.ylabel('True Positive Rate', fontsize=20)\n",
    "# show the legend\n",
    "plt.legend(fontsize=\"large\")\n",
    "# show the plot\n",
    "plt.show()"
   ]
  }
 ],
 "metadata": {
  "kernelspec": {
   "display_name": "Python 3 (ipykernel)",
   "language": "python",
   "name": "python3"
  },
  "language_info": {
   "codemirror_mode": {
    "name": "ipython",
    "version": 3
   },
   "file_extension": ".py",
   "mimetype": "text/x-python",
   "name": "python",
   "nbconvert_exporter": "python",
   "pygments_lexer": "ipython3",
   "version": "3.9.19"
  }
 },
 "nbformat": 4,
 "nbformat_minor": 5
}
